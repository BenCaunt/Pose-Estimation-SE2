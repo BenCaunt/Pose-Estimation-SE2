{
  "cells": [
    {
      "cell_type": "code",
      "execution_count": 28,
      "id": "c400d0c7",
      "metadata": {
        "colab": {
          "base_uri": "https://localhost:8080/"
        },
        "id": "c400d0c7",
        "outputId": "b69a9630-3bd8-4aa6-b0ef-b44e3018ddcb"
      },
      "outputs": [
        {
          "output_type": "stream",
          "name": "stdout",
          "text": [
            "Requirement already satisfied: rerun-sdk in /usr/local/lib/python3.10/dist-packages (0.18.2)\n",
            "Requirement already satisfied: attrs>=23.1.0 in /usr/local/lib/python3.10/dist-packages (from rerun-sdk) (24.2.0)\n",
            "Requirement already satisfied: numpy<2,>=1.23 in /usr/local/lib/python3.10/dist-packages (from rerun-sdk) (1.26.4)\n",
            "Requirement already satisfied: pillow>=8.0.0 in /usr/local/lib/python3.10/dist-packages (from rerun-sdk) (9.4.0)\n",
            "Requirement already satisfied: pyarrow>=14.0.2 in /usr/local/lib/python3.10/dist-packages (from rerun-sdk) (14.0.2)\n",
            "Requirement already satisfied: typing-extensions>=4.5 in /usr/local/lib/python3.10/dist-packages (from rerun-sdk) (4.12.2)\n",
            "Requirement already satisfied: rerun-notebook in /usr/local/lib/python3.10/dist-packages (0.18.2)\n",
            "Requirement already satisfied: anywidget in /usr/local/lib/python3.10/dist-packages (from rerun-notebook) (0.9.13)\n",
            "Requirement already satisfied: jupyter-ui-poll in /usr/local/lib/python3.10/dist-packages (from rerun-notebook) (1.0.0)\n",
            "Requirement already satisfied: ipywidgets>=7.6.0 in /usr/local/lib/python3.10/dist-packages (from anywidget->rerun-notebook) (7.7.1)\n",
            "Requirement already satisfied: psygnal>=0.8.1 in /usr/local/lib/python3.10/dist-packages (from anywidget->rerun-notebook) (0.11.1)\n",
            "Requirement already satisfied: typing-extensions>=4.2.0 in /usr/local/lib/python3.10/dist-packages (from anywidget->rerun-notebook) (4.12.2)\n",
            "Requirement already satisfied: ipython in /usr/local/lib/python3.10/dist-packages (from jupyter-ui-poll->rerun-notebook) (7.34.0)\n",
            "Requirement already satisfied: ipykernel>=4.5.1 in /usr/local/lib/python3.10/dist-packages (from ipywidgets>=7.6.0->anywidget->rerun-notebook) (5.5.6)\n",
            "Requirement already satisfied: ipython-genutils~=0.2.0 in /usr/local/lib/python3.10/dist-packages (from ipywidgets>=7.6.0->anywidget->rerun-notebook) (0.2.0)\n",
            "Requirement already satisfied: traitlets>=4.3.1 in /usr/local/lib/python3.10/dist-packages (from ipywidgets>=7.6.0->anywidget->rerun-notebook) (5.7.1)\n",
            "Requirement already satisfied: widgetsnbextension~=3.6.0 in /usr/local/lib/python3.10/dist-packages (from ipywidgets>=7.6.0->anywidget->rerun-notebook) (3.6.9)\n",
            "Requirement already satisfied: jupyterlab-widgets>=1.0.0 in /usr/local/lib/python3.10/dist-packages (from ipywidgets>=7.6.0->anywidget->rerun-notebook) (3.0.13)\n",
            "Requirement already satisfied: setuptools>=18.5 in /usr/local/lib/python3.10/dist-packages (from ipython->jupyter-ui-poll->rerun-notebook) (71.0.4)\n",
            "Requirement already satisfied: jedi>=0.16 in /usr/local/lib/python3.10/dist-packages (from ipython->jupyter-ui-poll->rerun-notebook) (0.19.1)\n",
            "Requirement already satisfied: decorator in /usr/local/lib/python3.10/dist-packages (from ipython->jupyter-ui-poll->rerun-notebook) (4.4.2)\n",
            "Requirement already satisfied: pickleshare in /usr/local/lib/python3.10/dist-packages (from ipython->jupyter-ui-poll->rerun-notebook) (0.7.5)\n",
            "Requirement already satisfied: prompt-toolkit!=3.0.0,!=3.0.1,<3.1.0,>=2.0.0 in /usr/local/lib/python3.10/dist-packages (from ipython->jupyter-ui-poll->rerun-notebook) (3.0.47)\n",
            "Requirement already satisfied: pygments in /usr/local/lib/python3.10/dist-packages (from ipython->jupyter-ui-poll->rerun-notebook) (2.16.1)\n",
            "Requirement already satisfied: backcall in /usr/local/lib/python3.10/dist-packages (from ipython->jupyter-ui-poll->rerun-notebook) (0.2.0)\n",
            "Requirement already satisfied: matplotlib-inline in /usr/local/lib/python3.10/dist-packages (from ipython->jupyter-ui-poll->rerun-notebook) (0.1.7)\n",
            "Requirement already satisfied: pexpect>4.3 in /usr/local/lib/python3.10/dist-packages (from ipython->jupyter-ui-poll->rerun-notebook) (4.9.0)\n",
            "Requirement already satisfied: jupyter-client in /usr/local/lib/python3.10/dist-packages (from ipykernel>=4.5.1->ipywidgets>=7.6.0->anywidget->rerun-notebook) (6.1.12)\n",
            "Requirement already satisfied: tornado>=4.2 in /usr/local/lib/python3.10/dist-packages (from ipykernel>=4.5.1->ipywidgets>=7.6.0->anywidget->rerun-notebook) (6.3.3)\n",
            "Requirement already satisfied: parso<0.9.0,>=0.8.3 in /usr/local/lib/python3.10/dist-packages (from jedi>=0.16->ipython->jupyter-ui-poll->rerun-notebook) (0.8.4)\n",
            "Requirement already satisfied: ptyprocess>=0.5 in /usr/local/lib/python3.10/dist-packages (from pexpect>4.3->ipython->jupyter-ui-poll->rerun-notebook) (0.7.0)\n",
            "Requirement already satisfied: wcwidth in /usr/local/lib/python3.10/dist-packages (from prompt-toolkit!=3.0.0,!=3.0.1,<3.1.0,>=2.0.0->ipython->jupyter-ui-poll->rerun-notebook) (0.2.13)\n",
            "Requirement already satisfied: notebook>=4.4.1 in /usr/local/lib/python3.10/dist-packages (from widgetsnbextension~=3.6.0->ipywidgets>=7.6.0->anywidget->rerun-notebook) (6.5.5)\n",
            "Requirement already satisfied: jinja2 in /usr/local/lib/python3.10/dist-packages (from notebook>=4.4.1->widgetsnbextension~=3.6.0->ipywidgets>=7.6.0->anywidget->rerun-notebook) (3.1.4)\n",
            "Requirement already satisfied: pyzmq<25,>=17 in /usr/local/lib/python3.10/dist-packages (from notebook>=4.4.1->widgetsnbextension~=3.6.0->ipywidgets>=7.6.0->anywidget->rerun-notebook) (24.0.1)\n",
            "Requirement already satisfied: argon2-cffi in /usr/local/lib/python3.10/dist-packages (from notebook>=4.4.1->widgetsnbextension~=3.6.0->ipywidgets>=7.6.0->anywidget->rerun-notebook) (23.1.0)\n",
            "Requirement already satisfied: jupyter-core>=4.6.1 in /usr/local/lib/python3.10/dist-packages (from notebook>=4.4.1->widgetsnbextension~=3.6.0->ipywidgets>=7.6.0->anywidget->rerun-notebook) (5.7.2)\n",
            "Requirement already satisfied: nbformat in /usr/local/lib/python3.10/dist-packages (from notebook>=4.4.1->widgetsnbextension~=3.6.0->ipywidgets>=7.6.0->anywidget->rerun-notebook) (5.10.4)\n",
            "Requirement already satisfied: nbconvert>=5 in /usr/local/lib/python3.10/dist-packages (from notebook>=4.4.1->widgetsnbextension~=3.6.0->ipywidgets>=7.6.0->anywidget->rerun-notebook) (6.5.4)\n",
            "Requirement already satisfied: nest-asyncio>=1.5 in /usr/local/lib/python3.10/dist-packages (from notebook>=4.4.1->widgetsnbextension~=3.6.0->ipywidgets>=7.6.0->anywidget->rerun-notebook) (1.6.0)\n",
            "Requirement already satisfied: Send2Trash>=1.8.0 in /usr/local/lib/python3.10/dist-packages (from notebook>=4.4.1->widgetsnbextension~=3.6.0->ipywidgets>=7.6.0->anywidget->rerun-notebook) (1.8.3)\n",
            "Requirement already satisfied: terminado>=0.8.3 in /usr/local/lib/python3.10/dist-packages (from notebook>=4.4.1->widgetsnbextension~=3.6.0->ipywidgets>=7.6.0->anywidget->rerun-notebook) (0.18.1)\n",
            "Requirement already satisfied: prometheus-client in /usr/local/lib/python3.10/dist-packages (from notebook>=4.4.1->widgetsnbextension~=3.6.0->ipywidgets>=7.6.0->anywidget->rerun-notebook) (0.20.0)\n",
            "Requirement already satisfied: nbclassic>=0.4.7 in /usr/local/lib/python3.10/dist-packages (from notebook>=4.4.1->widgetsnbextension~=3.6.0->ipywidgets>=7.6.0->anywidget->rerun-notebook) (1.1.0)\n",
            "Requirement already satisfied: python-dateutil>=2.1 in /usr/local/lib/python3.10/dist-packages (from jupyter-client->ipykernel>=4.5.1->ipywidgets>=7.6.0->anywidget->rerun-notebook) (2.8.2)\n",
            "Requirement already satisfied: platformdirs>=2.5 in /usr/local/lib/python3.10/dist-packages (from jupyter-core>=4.6.1->notebook>=4.4.1->widgetsnbextension~=3.6.0->ipywidgets>=7.6.0->anywidget->rerun-notebook) (4.3.2)\n",
            "Requirement already satisfied: notebook-shim>=0.2.3 in /usr/local/lib/python3.10/dist-packages (from nbclassic>=0.4.7->notebook>=4.4.1->widgetsnbextension~=3.6.0->ipywidgets>=7.6.0->anywidget->rerun-notebook) (0.2.4)\n",
            "Requirement already satisfied: lxml in /usr/local/lib/python3.10/dist-packages (from nbconvert>=5->notebook>=4.4.1->widgetsnbextension~=3.6.0->ipywidgets>=7.6.0->anywidget->rerun-notebook) (4.9.4)\n",
            "Requirement already satisfied: beautifulsoup4 in /usr/local/lib/python3.10/dist-packages (from nbconvert>=5->notebook>=4.4.1->widgetsnbextension~=3.6.0->ipywidgets>=7.6.0->anywidget->rerun-notebook) (4.12.3)\n",
            "Requirement already satisfied: bleach in /usr/local/lib/python3.10/dist-packages (from nbconvert>=5->notebook>=4.4.1->widgetsnbextension~=3.6.0->ipywidgets>=7.6.0->anywidget->rerun-notebook) (6.1.0)\n",
            "Requirement already satisfied: defusedxml in /usr/local/lib/python3.10/dist-packages (from nbconvert>=5->notebook>=4.4.1->widgetsnbextension~=3.6.0->ipywidgets>=7.6.0->anywidget->rerun-notebook) (0.7.1)\n",
            "Requirement already satisfied: entrypoints>=0.2.2 in /usr/local/lib/python3.10/dist-packages (from nbconvert>=5->notebook>=4.4.1->widgetsnbextension~=3.6.0->ipywidgets>=7.6.0->anywidget->rerun-notebook) (0.4)\n",
            "Requirement already satisfied: jupyterlab-pygments in /usr/local/lib/python3.10/dist-packages (from nbconvert>=5->notebook>=4.4.1->widgetsnbextension~=3.6.0->ipywidgets>=7.6.0->anywidget->rerun-notebook) (0.3.0)\n",
            "Requirement already satisfied: MarkupSafe>=2.0 in /usr/local/lib/python3.10/dist-packages (from nbconvert>=5->notebook>=4.4.1->widgetsnbextension~=3.6.0->ipywidgets>=7.6.0->anywidget->rerun-notebook) (2.1.5)\n",
            "Requirement already satisfied: mistune<2,>=0.8.1 in /usr/local/lib/python3.10/dist-packages (from nbconvert>=5->notebook>=4.4.1->widgetsnbextension~=3.6.0->ipywidgets>=7.6.0->anywidget->rerun-notebook) (0.8.4)\n",
            "Requirement already satisfied: nbclient>=0.5.0 in /usr/local/lib/python3.10/dist-packages (from nbconvert>=5->notebook>=4.4.1->widgetsnbextension~=3.6.0->ipywidgets>=7.6.0->anywidget->rerun-notebook) (0.10.0)\n",
            "Requirement already satisfied: packaging in /usr/local/lib/python3.10/dist-packages (from nbconvert>=5->notebook>=4.4.1->widgetsnbextension~=3.6.0->ipywidgets>=7.6.0->anywidget->rerun-notebook) (24.1)\n",
            "Requirement already satisfied: pandocfilters>=1.4.1 in /usr/local/lib/python3.10/dist-packages (from nbconvert>=5->notebook>=4.4.1->widgetsnbextension~=3.6.0->ipywidgets>=7.6.0->anywidget->rerun-notebook) (1.5.1)\n",
            "Requirement already satisfied: tinycss2 in /usr/local/lib/python3.10/dist-packages (from nbconvert>=5->notebook>=4.4.1->widgetsnbextension~=3.6.0->ipywidgets>=7.6.0->anywidget->rerun-notebook) (1.3.0)\n",
            "Requirement already satisfied: fastjsonschema>=2.15 in /usr/local/lib/python3.10/dist-packages (from nbformat->notebook>=4.4.1->widgetsnbextension~=3.6.0->ipywidgets>=7.6.0->anywidget->rerun-notebook) (2.20.0)\n",
            "Requirement already satisfied: jsonschema>=2.6 in /usr/local/lib/python3.10/dist-packages (from nbformat->notebook>=4.4.1->widgetsnbextension~=3.6.0->ipywidgets>=7.6.0->anywidget->rerun-notebook) (4.23.0)\n",
            "Requirement already satisfied: six>=1.5 in /usr/local/lib/python3.10/dist-packages (from python-dateutil>=2.1->jupyter-client->ipykernel>=4.5.1->ipywidgets>=7.6.0->anywidget->rerun-notebook) (1.16.0)\n",
            "Requirement already satisfied: argon2-cffi-bindings in /usr/local/lib/python3.10/dist-packages (from argon2-cffi->notebook>=4.4.1->widgetsnbextension~=3.6.0->ipywidgets>=7.6.0->anywidget->rerun-notebook) (21.2.0)\n",
            "Requirement already satisfied: attrs>=22.2.0 in /usr/local/lib/python3.10/dist-packages (from jsonschema>=2.6->nbformat->notebook>=4.4.1->widgetsnbextension~=3.6.0->ipywidgets>=7.6.0->anywidget->rerun-notebook) (24.2.0)\n",
            "Requirement already satisfied: jsonschema-specifications>=2023.03.6 in /usr/local/lib/python3.10/dist-packages (from jsonschema>=2.6->nbformat->notebook>=4.4.1->widgetsnbextension~=3.6.0->ipywidgets>=7.6.0->anywidget->rerun-notebook) (2023.12.1)\n",
            "Requirement already satisfied: referencing>=0.28.4 in /usr/local/lib/python3.10/dist-packages (from jsonschema>=2.6->nbformat->notebook>=4.4.1->widgetsnbextension~=3.6.0->ipywidgets>=7.6.0->anywidget->rerun-notebook) (0.35.1)\n",
            "Requirement already satisfied: rpds-py>=0.7.1 in /usr/local/lib/python3.10/dist-packages (from jsonschema>=2.6->nbformat->notebook>=4.4.1->widgetsnbextension~=3.6.0->ipywidgets>=7.6.0->anywidget->rerun-notebook) (0.20.0)\n",
            "Requirement already satisfied: jupyter-server<3,>=1.8 in /usr/local/lib/python3.10/dist-packages (from notebook-shim>=0.2.3->nbclassic>=0.4.7->notebook>=4.4.1->widgetsnbextension~=3.6.0->ipywidgets>=7.6.0->anywidget->rerun-notebook) (1.24.0)\n",
            "Requirement already satisfied: cffi>=1.0.1 in /usr/local/lib/python3.10/dist-packages (from argon2-cffi-bindings->argon2-cffi->notebook>=4.4.1->widgetsnbextension~=3.6.0->ipywidgets>=7.6.0->anywidget->rerun-notebook) (1.17.1)\n",
            "Requirement already satisfied: soupsieve>1.2 in /usr/local/lib/python3.10/dist-packages (from beautifulsoup4->nbconvert>=5->notebook>=4.4.1->widgetsnbextension~=3.6.0->ipywidgets>=7.6.0->anywidget->rerun-notebook) (2.6)\n",
            "Requirement already satisfied: webencodings in /usr/local/lib/python3.10/dist-packages (from bleach->nbconvert>=5->notebook>=4.4.1->widgetsnbextension~=3.6.0->ipywidgets>=7.6.0->anywidget->rerun-notebook) (0.5.1)\n",
            "Requirement already satisfied: pycparser in /usr/local/lib/python3.10/dist-packages (from cffi>=1.0.1->argon2-cffi-bindings->argon2-cffi->notebook>=4.4.1->widgetsnbextension~=3.6.0->ipywidgets>=7.6.0->anywidget->rerun-notebook) (2.22)\n",
            "Requirement already satisfied: anyio<4,>=3.1.0 in /usr/local/lib/python3.10/dist-packages (from jupyter-server<3,>=1.8->notebook-shim>=0.2.3->nbclassic>=0.4.7->notebook>=4.4.1->widgetsnbextension~=3.6.0->ipywidgets>=7.6.0->anywidget->rerun-notebook) (3.7.1)\n",
            "Requirement already satisfied: websocket-client in /usr/local/lib/python3.10/dist-packages (from jupyter-server<3,>=1.8->notebook-shim>=0.2.3->nbclassic>=0.4.7->notebook>=4.4.1->widgetsnbextension~=3.6.0->ipywidgets>=7.6.0->anywidget->rerun-notebook) (1.8.0)\n",
            "Requirement already satisfied: idna>=2.8 in /usr/local/lib/python3.10/dist-packages (from anyio<4,>=3.1.0->jupyter-server<3,>=1.8->notebook-shim>=0.2.3->nbclassic>=0.4.7->notebook>=4.4.1->widgetsnbextension~=3.6.0->ipywidgets>=7.6.0->anywidget->rerun-notebook) (3.8)\n",
            "Requirement already satisfied: sniffio>=1.1 in /usr/local/lib/python3.10/dist-packages (from anyio<4,>=3.1.0->jupyter-server<3,>=1.8->notebook-shim>=0.2.3->nbclassic>=0.4.7->notebook>=4.4.1->widgetsnbextension~=3.6.0->ipywidgets>=7.6.0->anywidget->rerun-notebook) (1.3.1)\n",
            "Requirement already satisfied: exceptiongroup in /usr/local/lib/python3.10/dist-packages (from anyio<4,>=3.1.0->jupyter-server<3,>=1.8->notebook-shim>=0.2.3->nbclassic>=0.4.7->notebook>=4.4.1->widgetsnbextension~=3.6.0->ipywidgets>=7.6.0->anywidget->rerun-notebook) (1.2.2)\n",
            "Requirement already satisfied: numpy in /usr/local/lib/python3.10/dist-packages (1.26.4)\n",
            "Requirement already satisfied: matplotlib in /usr/local/lib/python3.10/dist-packages (3.7.1)\n",
            "Requirement already satisfied: contourpy>=1.0.1 in /usr/local/lib/python3.10/dist-packages (from matplotlib) (1.3.0)\n",
            "Requirement already satisfied: cycler>=0.10 in /usr/local/lib/python3.10/dist-packages (from matplotlib) (0.12.1)\n",
            "Requirement already satisfied: fonttools>=4.22.0 in /usr/local/lib/python3.10/dist-packages (from matplotlib) (4.53.1)\n",
            "Requirement already satisfied: kiwisolver>=1.0.1 in /usr/local/lib/python3.10/dist-packages (from matplotlib) (1.4.7)\n",
            "Requirement already satisfied: numpy>=1.20 in /usr/local/lib/python3.10/dist-packages (from matplotlib) (1.26.4)\n",
            "Requirement already satisfied: packaging>=20.0 in /usr/local/lib/python3.10/dist-packages (from matplotlib) (24.1)\n",
            "Requirement already satisfied: pillow>=6.2.0 in /usr/local/lib/python3.10/dist-packages (from matplotlib) (9.4.0)\n",
            "Requirement already satisfied: pyparsing>=2.3.1 in /usr/local/lib/python3.10/dist-packages (from matplotlib) (3.1.4)\n",
            "Requirement already satisfied: python-dateutil>=2.7 in /usr/local/lib/python3.10/dist-packages (from matplotlib) (2.8.2)\n",
            "Requirement already satisfied: six>=1.5 in /usr/local/lib/python3.10/dist-packages (from python-dateutil>=2.7->matplotlib) (1.16.0)\n"
          ]
        }
      ],
      "source": [
        "!pip install rerun-sdk\n",
        "!pip install rerun-notebook\n",
        "!pip install numpy\n",
        "!pip install matplotlib\n"
      ]
    },
    {
      "cell_type": "code",
      "execution_count": 29,
      "id": "7c7b7a6d",
      "metadata": {
        "id": "7c7b7a6d"
      },
      "outputs": [],
      "source": [
        "import numpy as np\n",
        "import rerun as rr\n",
        "import matplotlib.pyplot as plt\n",
        "from dataclasses import dataclass\n",
        "from numpy import pi"
      ]
    },
    {
      "cell_type": "markdown",
      "id": "3341446f",
      "metadata": {
        "id": "3341446f"
      },
      "source": [
        "## Geometry Primitives and Operations\n",
        "\n",
        "In this section, we introduce the fundamental geometric primitives and operations used in our 2D robot localization and motion planning.\n",
        "\n",
        "### Transform2d (SE(2))\n",
        "\n",
        "`Transform2d` represents elements of the Special Euclidean group SE(2), which describes 2D rigid body transformations (translations and rotations).\n",
        "\n",
        "$\\mathbf{X} = \\begin{bmatrix}\n",
        "\\cos(\\theta) & -\\sin(\\theta) & x \\\\\n",
        "\\sin(\\theta) & \\cos(\\theta) & y \\\\\n",
        "0 & 0 & 1\n",
        "\\end{bmatrix} \\in SE(2)$\n",
        "\n",
        "where:\n",
        "- $(x, y)$ represents the translation\n",
        "- $\\theta$ represents the rotation angle\n",
        "\n",
        "Key operations:\n",
        "- Composition: $\\mathbf{X}_1 \\circ \\mathbf{X}_2$ (implemented as `__mul__`)\n",
        "- Inverse: $\\mathbf{X}^{-1}$\n",
        "- Logarithmic map: $\\log: SE(2) \\rightarrow se(2)$\n",
        "\n",
        "### Twist2d (se(2))\n",
        "\n",
        "`Twist2d` represents a robot relative position delta / velocity.  Mathematically it is known as the `Lie Algebra of SE(2)` and is denoted by $\\xi = (v_x, v_y, \\omega) \\in se(2)$.  With the exponential map $\\exp(\\xi)$ you can convert Twists (se2) --> Transforms (SE2).  This operation is equivalent to what is colloquially known as \"constant arc odometry\" in FTC.\n",
        "\n",
        "where:\n",
        "- $(v_x, v_y)$ represents linear velocity\n",
        "- $\\omega$ represents angular velocity\n",
        "\n",
        "The corresponding matrix representation is:\n",
        "\n",
        "$\\hat{\\xi} = \\begin{bmatrix}\n",
        "0 & -\\omega & v_x \\\\\n",
        "\\omega & 0 & v_y \\\\\n",
        "0 & 0 & 0\n",
        "\\end{bmatrix}$\n",
        "\n",
        "Key operation:\n",
        "- Exponential map: $\\exp: se(2) \\rightarrow SE(2)$\n",
        "\n",
        "### Vector2d\n",
        "\n",
        "`Vector2d` represents 2D vectors, useful for various geometric calculations.\n",
        "\n",
        "$\\mathbf{v} = (x, y)$\n",
        "\n",
        "Operations:\n",
        "- Addition: $\\mathbf{v}_1 + \\mathbf{v}_2$\n",
        "- Subtraction: $\\mathbf{v}_1 - \\mathbf{v}_2$\n",
        "- Scalar multiplication: $c\\mathbf{v}$\n",
        "- Norm: $\\|\\mathbf{v}\\|$\n",
        "\n",
        "### Key Relationships\n",
        "\n",
        "1. **Exponential Map** (Twist2d to Transform2d):\n",
        "   $\\exp(\\xi) = \\mathbf{X}$\n",
        "\n",
        "2. **Logarithmic Map** (Transform2d to Twist2d):\n",
        "   $\\log(\\mathbf{X}) = \\xi$\n",
        "\n",
        "These maps allow us to switch between the group SE(2) and its Lie algebra se(2), which is crucial for various robotic algorithms.\n",
        "\n",
        "For a more rigorous explanation, refer to this video: [Lie theory for the roboticist](https://youtu.be/csolG83gCV8?si=qCsA8-9Z9A6nvBTI)"
      ]
    },
    {
      "cell_type": "code",
      "execution_count": 30,
      "id": "71ae9754",
      "metadata": {
        "id": "71ae9754"
      },
      "outputs": [],
      "source": [
        "@dataclass\n",
        "class Transform2d:\n",
        "    \"\"\"\n",
        "    A 2D transformation on SE(2).  Represents a homogeneous transformation between two reference frames.\n",
        "\n",
        "    Equivalent to Pose2D in Roadrunner and WPILib.\n",
        "\n",
        "    Represents the functionality of the matrix:\n",
        "\n",
        "    | cos(theta) -sin(theta) x |\n",
        "    | sin(theta)  cos(theta) y |\n",
        "    | 0           0          1 |\n",
        "\n",
        "\n",
        "    Attributes:\n",
        "    x: The x translation\n",
        "    y: The y translation\n",
        "    theta: The rotation in radians\n",
        "    \"\"\"\n",
        "    x: float\n",
        "    y: float\n",
        "    theta: float\n",
        "\n",
        "    def __mul__(self, other):\n",
        "        \"\"\"\n",
        "        Composition of two transformations.  This is equivalent to the matrix product of the two transformations.\n",
        "\n",
        "        SE(2) * SE(2) -> SE(2)\n",
        "        \"\"\"\n",
        "        x = self.x + other.x * np.cos(self.theta) - other.y * np.sin(self.theta)\n",
        "        y = self.y + other.x * np.sin(self.theta) + other.y * np.cos(self.theta)\n",
        "        theta = wrap_angle(self.theta + other.theta)\n",
        "        return Transform2d(x, y, theta)\n",
        "    def __str__(self):\n",
        "        return f\"Pose2D(x: {self.x}, y: {self.y}, theta: {self.theta})\"\n",
        "    def inverse(self) -> 'Transform2d':\n",
        "        \"\"\"\n",
        "        Inverse of a transform.  This is equivalent to the inverse of a matrix.\n",
        "\n",
        "        SE(2) -> SE(2)\n",
        "        \"\"\"\n",
        "        x = -self.x * np.cos(self.theta) - self.y * np.sin(self.theta)\n",
        "        y = -self.x * np.sin(self.theta) + self.y * np.cos(self.theta)\n",
        "        theta = wrap_angle(-self.theta)\n",
        "        return Transform2d(x, y, theta)\n",
        "\n",
        "    def log(self) -> 'Twist2d':\n",
        "        \"\"\"\n",
        "        This is the logarithmic map from SE(2) to se(2).  It provides a transformation that represents a small change in pose.\n",
        "\n",
        "        The idea is this can be used for discritizing transformations into the specific robot relative velocity needed to achieve that transformation.\n",
        "        \"\"\"\n",
        "        theta = self.theta\n",
        "        halfu = 0.5 * theta + snz(theta)\n",
        "        v = halfu / np.tan(halfu)\n",
        "        return Twist2d(\n",
        "            v * self.x + halfu * self.y,\n",
        "            -halfu * self.x + v * self.y,\n",
        "            theta\n",
        "        )\n",
        "\n",
        "@dataclass\n",
        "class Twist2d:\n",
        "    \"\"\"\n",
        "    Represents a velocity / pose delta in 2D space.  This is equivalent to a Twist2d in Roadrunner and WPILib.\n",
        "\n",
        "    Twists exist in a space tangent to that of SE(2) known as se(2).  This is the Lie algebra of SE(2).\n",
        "\n",
        "    The exp() function provides a map from se(2) to SE(2).  This is the exponential map.\n",
        "    \"\"\"\n",
        "    dx: float\n",
        "    dy: float\n",
        "    dtheta: float\n",
        "\n",
        "    def exp(self):\n",
        "        \"\"\"\n",
        "        This is the exponential map from se(2) to SE(2).  It provides a transformation that represents a small change in pose.\n",
        "\n",
        "        se(2) -> SE(2)\n",
        "        \"\"\"\n",
        "        angle = self.dtheta\n",
        "        heading = self.dtheta\n",
        "        u = angle + snz(angle)\n",
        "        c = 1 - np.cos(u)\n",
        "        s = np.sin(u)\n",
        "        translation = Vector2d(\n",
        "            (s * self.dx - c * self.dy) / u,\n",
        "            (c * self.dx + s * self.dy) / u\n",
        "        )\n",
        "        return Transform2d(translation.x, translation.y, heading)\n",
        "\n",
        "def snz(x: float) -> float:\n",
        "\n",
        "    EPS = 1e-9\n",
        "    return EPS if x >= 0.0 else -EPS\n",
        "\n",
        "def wrap_angle(angle: float) -> float:\n",
        "    while angle > pi:\n",
        "        angle -= 2 * pi\n",
        "    while angle < -pi:\n",
        "        angle += 2 * pi\n",
        "    return angle\n",
        "\n",
        "\n",
        "@dataclass\n",
        "class Vector2d:\n",
        "    def __init__(self, x: float, y: float):\n",
        "        self.x = x\n",
        "        self.y = y\n",
        "    def __add__(self, other: 'Vector2d') -> 'Vector2d':\n",
        "        if type(other) == Vector2d:\n",
        "            return Vector2d(self.x + other.x, self.y + other.y)\n",
        "        else:\n",
        "            raise TypeError(\"Unsupported type for addition with Vector2d\")\n",
        "    def __sub__(self, other: 'Vector2d') -> 'Vector2d':\n",
        "        if type(other) == Vector2d:\n",
        "            return Vector2d(self.x - other.x, self.y - other.y)\n",
        "        else:\n",
        "            raise TypeError(\"Unsupported type for subtraction with Vector2d\")\n",
        "    def __mul__(self, other: float) -> 'Vector2d':\n",
        "        return Vector2d(self.x * other, self.y * other)\n",
        "    def __truediv__(self, other: float) -> 'Vector2d':\n",
        "        return Vector2d(self.x / other, self.y / other)\n",
        "    def norm(self) -> float:\n",
        "        return (self.x ** 2 + self.y ** 2) ** 0.5"
      ]
    },
    {
      "cell_type": "code",
      "execution_count": 31,
      "id": "1e57544a",
      "metadata": {
        "id": "1e57544a"
      },
      "outputs": [],
      "source": [
        "noise_normal = 0.011\n",
        "@dataclass\n",
        "class SimRobot:\n",
        "    \"\"\"\n",
        "    Simulated robot with exponential map motion model.\n",
        "    \"\"\"\n",
        "    true_pose: Transform2d\n",
        "    estimated_pose: Transform2d\n",
        "    true_pos_history: list[Transform2d]\n",
        "    estimated_pos_history: list[Transform2d]\n",
        "\n",
        "    def step(self, twist: Twist2d, process_noise: bool) -> Twist2d:\n",
        "        \"\"\"\n",
        "        steps the robot simulation\n",
        "\n",
        "        twist returned is the observed twist by the robots odometry.\n",
        "        \"\"\"\n",
        "\n",
        "        self.true_pose = self.true_pose * twist.exp()\n",
        "\n",
        "        twist_noise = Twist2d(0.0, 0.0, 0.0)\n",
        "        if process_noise:\n",
        "            twist_noise = Twist2d(\n",
        "                np.random.normal(0, noise_normal),\n",
        "                np.random.normal(0, noise_normal),\n",
        "                np.random.normal(0, noise_normal)\n",
        "            )\n",
        "\n",
        "        twist = Twist2d(\n",
        "            twist.dx + twist_noise.dx,\n",
        "            twist.dy + twist_noise.dy,\n",
        "            twist.dtheta + twist_noise.dtheta\n",
        "        )\n",
        "\n",
        "        self.estimated_pose = self.estimated_pose * twist.exp()\n",
        "        self.true_pos_history.append(self.true_pose)\n",
        "        self.estimated_pos_history.append(self.estimated_pose)\n",
        "\n",
        "        return twist\n",
        "\n",
        "@dataclass\n",
        "class NaiveRobot:\n",
        "    \"\"\"\n",
        "    Simulated robot with naive euler integration motion model.\n",
        "    \"\"\"\n",
        "    def __init__(self, true_pose: Transform2d):\n",
        "        self.true_pose = true_pose\n",
        "        self.estimated_pose = true_pose\n",
        "        self.true_pos_history = [true_pose]\n",
        "        self.estimated_pos_history = [true_pose]\n",
        "\n",
        "    def step(self, twist: Twist2d):\n",
        "        tf = Transform2d(twist.dx, twist.dy, twist.dtheta)\n",
        "        self.true_pose = self.true_pose * tf\n",
        "        self.estimated_pose = self.estimated_pose * tf\n",
        "        self.true_pos_history.append(self.true_pose)\n",
        "        self.estimated_pos_history.append(self.estimated_pose)\n"
      ]
    },
    {
      "cell_type": "markdown",
      "id": "b14d4d6e",
      "metadata": {
        "id": "b14d4d6e"
      },
      "source": [
        "## Log map explained\n",
        "\n",
        "In this example we simulate the robot for a single time stamp.  We want the robot to travel perfectly along its diagonal to reach the position (1,1,45 deg) after 1 second.  \n",
        "\n",
        "To accomplish this we need to account for the fact that as a robot drives it drives in an arc in its given reference frame.  The log map finds the relative change in position needed to achieve the ideal arc to reach the desired pose.  "
      ]
    },
    {
      "cell_type": "code",
      "execution_count": 32,
      "id": "a04b3a29",
      "metadata": {
        "colab": {
          "base_uri": "https://localhost:8080/"
        },
        "id": "a04b3a29",
        "outputId": "076e6299-6f6b-4853-aa65-77469c634ad1"
      },
      "outputs": [
        {
          "output_type": "stream",
          "name": "stdout",
          "text": [
            "Twist2d(dx=1.3407585313999406, dy=0.5553603660024924, dtheta=0.7853981633974483)\n",
            "SimRobot(true_pose=Transform2d(x=1.0000000005661327, y=0.999999999566133, theta=0.7853981633974483), estimated_pose=Transform2d(x=0.9969630274876663, y=1.0085412633922866, theta=0.8057951355273528), true_pos_history=[Transform2d(x=1.0000000005661327, y=0.999999999566133, theta=0.7853981633974483)], estimated_pos_history=[Transform2d(x=0.9969630274876663, y=1.0085412633922866, theta=0.8057951355273528)])\n"
          ]
        }
      ],
      "source": [
        "dt = 1.0 # s\n",
        "vx = 1.0 # m/s\n",
        "vy = 1.0 # m/s\n",
        "omega = np.deg2rad(45) # rad/s\n",
        "\n",
        "# our desired position change during this time step\n",
        "velocity_reference = Transform2d(vx * dt, vy * dt, omega * dt)\n",
        "\n",
        "# convert this to a twist\n",
        "twist_reference = velocity_reference.log()\n",
        "print(twist_reference)\n",
        "\n",
        "# create a robot at the origin\n",
        "robot = SimRobot(Transform2d(0, 0, 0), Transform2d(0, 0, 0), [], [])\n",
        "# step the robot\n",
        "robot.step(twist_reference, process_noise=True)\n",
        "# observe the robot should be at our desired position\n",
        "print(robot)"
      ]
    },
    {
      "cell_type": "code",
      "execution_count": 33,
      "id": "356e000b",
      "metadata": {
        "id": "356e000b"
      },
      "outputs": [],
      "source": [
        "import random\n",
        "\n",
        "\n",
        "def add_3d_path_to_rerun(path, topic: str, color = None, sample_percent = 1.0):\n",
        "    z = 0.1\n",
        "\n",
        "    if sample_percent < 1.0:\n",
        "        path = path[::int(1/sample_percent)]\n",
        "\n",
        "    if type(path[0]) == tuple:\n",
        "        # convert to 3d point with z\n",
        "        path_points = [[pose[0], pose[1], z] for pose in path]\n",
        "    else:\n",
        "        path_points = [[pose.x, pose.y, z] for pose in path]\n",
        "    if color is not None:\n",
        "        path_line = rr.Points3D(path_points, colors=[color], radii=[0.025])\n",
        "    else:\n",
        "        path_line = rr.Points3D(path_points, colors=[random_bright_color()], radii=[0.025])\n",
        "    rr.log(topic + \"3d\", path_line)\n",
        "\n",
        "def random_bright_color(floor = 120):\n",
        "    return [random.randint(floor, 255), random.randint(floor, 255), random.randint(floor, 255)]\n",
        "\n",
        "def add_path_to_matplotlib(path, label):\n",
        "    plt.plot([pose.x for pose in path], [pose.y for pose in path], label=label)\n",
        "    plt.legend()\n",
        "\n",
        "\n",
        "def log_robot_pose_rerun(pose: Transform2d, topic: str, time: float, colors = [255, 0, 0]):\n",
        "    rr.set_time_seconds(\"/log_time\", time)\n",
        "    box = rr.Boxes3D(\n",
        "        centers = [[pose.x, pose.y, 0.1]],\n",
        "        half_sizes = [[0.1, 0.1, 0.1]],\n",
        "        rotations = rr.RotationAxisAngle(axis=[0, 0, 1], angle=pose.theta),\n",
        "        colors = colors\n",
        "    )\n",
        "    rr.log(topic, box)\n"
      ]
    },
    {
      "cell_type": "markdown",
      "id": "93e29b96",
      "metadata": {
        "id": "93e29b96"
      },
      "source": [
        "## Simulated Robot trajectory\n",
        "\n",
        "We can simulate a robot with a given reference trajectory and compare the naive euler integration to the actual SE2 motion. As we can see the naive euler integration diverges fairly quickly from the actual SE2 motion.\n",
        "\n",
        "This is why we use the exponential map to update our pose in deadreckoning.  You can see this in roadrunner here: https://github.com/acmerobotics/road-runner-quickstart/blob/a75cfbaa46fbc901c9f2dae34295058ee1b84649/TeamCode/src/main/java/org/firstinspires/ftc/teamcode/MecanumDrive.java#L444"
      ]
    },
    {
      "cell_type": "code",
      "execution_count": 34,
      "id": "7d7aba5c",
      "metadata": {
        "colab": {
          "base_uri": "https://localhost:8080/",
          "height": 465
        },
        "id": "7d7aba5c",
        "outputId": "b4cdfb0a-19ef-4654-86a4-0cb90be93144"
      },
      "outputs": [
        {
          "output_type": "display_data",
          "data": {
            "text/plain": [
              "<Figure size 640x480 with 1 Axes>"
            ],
            "image/png": "[encoded data removed]"
          },
          "metadata": {}
        },
        {
          "output_type": "stream",
          "name": "stdout",
          "text": [
            "0.02680138714087079\n",
            "0.024379884455412382\n"
          ]
        }
      ],
      "source": [
        "def get_twist(t: float, dt: float)-> Twist2d:\n",
        "    x = 0.5 * dt\n",
        "    y = 0.0 * dt\n",
        "    theta = t * 0.05 * dt\n",
        "    return Twist2d(x, y, theta)\n",
        "\n",
        "\n",
        "rr.init(\"compare twist exponential trajectory to naive euler integration.\")\n",
        "\n",
        "duration = 15.0 # s\n",
        "dt = 0.15 # s\n",
        "dt_accurate = 0.0025 # s\n",
        "\n",
        "# create a robot at the origin\n",
        "robot = SimRobot(Transform2d(0, 0, 0), Transform2d(0, 0, 0), [], [])\n",
        "naive_robot = NaiveRobot(Transform2d(0, 0, 0))\n",
        "low_dt_robot = NaiveRobot(Transform2d(0, 0, 0))\n",
        "\n",
        "for t in np.arange(0, duration, dt_accurate):\n",
        "    twist = get_twist(t, dt_accurate)\n",
        "    low_dt_robot.step(twist)\n",
        "\n",
        "\n",
        "for t in np.arange(0, duration, dt):\n",
        "    twist = get_twist(t, dt)\n",
        "    robot.step(twist, process_noise=False)\n",
        "    naive_robot.step(twist)\n",
        "\n",
        "add_path_to_matplotlib(robot.estimated_pos_history, \"SE2 Robot\")\n",
        "add_path_to_matplotlib(naive_robot.true_pos_history, \"Euler Robot\")\n",
        "add_path_to_matplotlib(low_dt_robot.true_pos_history, \"Truth\")\n",
        "plt.show()\n",
        "\n",
        "end_pose_distance_euler = np.sqrt((robot.true_pos_history[-1].x - naive_robot.true_pos_history[-1].x)**2 + (robot.true_pos_history[-1].y - naive_robot.true_pos_history[-1].y)**2)\n",
        "end_pose_distance_low_dt = np.sqrt((robot.true_pos_history[-1].x - low_dt_robot.true_pos_history[-1].x)**2 + (robot.true_pos_history[-1].y - low_dt_robot.true_pos_history[-1].y)**2)\n",
        "print(end_pose_distance_euler)\n",
        "print(end_pose_distance_low_dt)"
      ]
    },
    {
      "cell_type": "markdown",
      "id": "981caa2a",
      "metadata": {
        "id": "981caa2a"
      },
      "source": [
        "## Odometry Drift\n",
        "\n",
        "While we can see that the SE2 exponential map improves our accuracy, we can see that our estimate is going to drift once we enable process noise.  While encoders aren't really 'noisy' they do have some random amounts of error from slip, wheels not being perfectly sized, and other process issues.  We will simulate this by adding a normal distribution to our twist input.\n",
        "\n",
        "We can see that even with this small amount of noise our estimate is going to drift.    "
      ]
    },
    {
      "cell_type": "code",
      "execution_count": 35,
      "id": "7bd9a5f1",
      "metadata": {
        "colab": {
          "base_uri": "https://localhost:8080/",
          "height": 430
        },
        "id": "7bd9a5f1",
        "outputId": "a3b33df4-0b34-4c33-b2f0-4c1a4af50150"
      },
      "outputs": [
        {
          "output_type": "display_data",
          "data": {
            "text/plain": [
              "<Figure size 640x480 with 1 Axes>"
            ],
            "image/png": "[encoded data removed]"
          },
          "metadata": {}
        }
      ],
      "source": [
        "duration = 25.0 # s\n",
        "dt = 0.15 # s\n",
        "\n",
        "# create a robot at the origin\n",
        "robot = SimRobot(Transform2d(0, 0, 0), Transform2d(0, 0, 0), [], [])\n",
        "\n",
        "\n",
        "for t in np.arange(0, duration, dt):\n",
        "    twist = get_twist(t, dt)\n",
        "    robot.step(twist, process_noise=True)\n",
        "\n",
        "add_path_to_matplotlib(robot.estimated_pos_history, \"SE2 Robot with noise\")\n",
        "add_path_to_matplotlib(robot.true_pos_history, \"Truth\")\n",
        "plt.show()"
      ]
    },
    {
      "cell_type": "markdown",
      "id": "3c6a5fbe",
      "metadata": {
        "id": "3c6a5fbe"
      },
      "source": [
        "## Simulating April Tag Measurements\n",
        "\n",
        "We can assume that you have code written that is able to estimate your robot pose using an April Tags though it may be too noisy to properly use.  For this example we will simulate april tags by adding noise to the sim's true robot pose.  This simulates the gaussian distribution we should expect from real april tag measurements.\n"
      ]
    },
    {
      "cell_type": "code",
      "execution_count": 36,
      "id": "a77170c2",
      "metadata": {
        "id": "a77170c2"
      },
      "outputs": [],
      "source": [
        "def get_tag_measurement(pose: Transform2d)-> Transform2d:\n",
        "    noise_normal = 0.10\n",
        "    return Transform2d(pose.x + np.random.normal(0, noise_normal), pose.y + np.random.normal(0, noise_normal), pose.theta + np.random.normal(0, noise_normal))"
      ]
    },
    {
      "cell_type": "markdown",
      "id": "eb6e2b81",
      "metadata": {
        "id": "eb6e2b81"
      },
      "source": [
        "## Key\n",
        "\n",
        "In the visualization below green represents the ground truth state, blue represents the pose estimated by the april tags and red represents the odometry data."
      ]
    },
    {
      "cell_type": "code",
      "execution_count": 37,
      "id": "402c9012",
      "metadata": {
        "colab": {
          "base_uri": "https://localhost:8080/",
          "height": 501,
          "referenced_widgets": [
            "9ef15cf5eb404464bafefdbb78c100b6",
            "3ed0df376e6045a78cc7c46c5f19b339"
          ]
        },
        "id": "402c9012",
        "outputId": "f2f90863-ba0d-41bd-d9dd-80e7a3f6a8bb"
      },
      "outputs": [
        {
          "output_type": "display_data",
          "data": {
            "text/plain": [
              "Viewer()"
            ],
            "application/vnd.jupyter.widget-view+json": {
              "version_major": 2,
              "version_minor": 0,
              "model_id": "9ef15cf5eb404464bafefdbb78c100b6"
            }
          },
          "metadata": {
            "application/vnd.jupyter.widget-view+json": {
              "colab": {
                "custom_widget_manager": {
                  "url": "https://ssl.gstatic.com/colaboratory-static/widgets/colab-cdn-widget-manager/2b70e893a8ba7c0f/manager.min.js"
                }
              }
            }
          }
        }
      ],
      "source": [
        "# simulate tag estimate vs odom vs ground truth\n",
        "from time import sleep\n",
        "def get_twist(t: float, dt: float)-> Twist2d:\n",
        "    x = 0.5 * dt\n",
        "    y = 0.0 * dt\n",
        "    theta = np.cos(t) * dt\n",
        "    return Twist2d(x, y, theta)\n",
        "\n",
        "rr.init(\"tag estimate vs odom vs ground truth\")\n",
        "\n",
        "duration = 25.0 # s\n",
        "dt = 0.05 # s\n",
        "\n",
        "# create a robot at the origin\n",
        "robot = SimRobot(Transform2d(0, 0, 0), Transform2d(0, 0, 0), [], [])\n",
        "tag_measurements = []\n",
        "for t in np.arange(0, duration, dt):\n",
        "    twist = get_twist(t, dt)\n",
        "    robot.step(twist, process_noise=True)\n",
        "    tag_measurements.append(get_tag_measurement(robot.true_pose))\n",
        "\n",
        "# put these here so the paths draw first.\n",
        "add_3d_path_to_rerun(robot.estimated_pos_history, \"tag_estimate\", color = [255, 0, 0])\n",
        "add_3d_path_to_rerun(robot.true_pos_history, \"truth\", color = [0, 255, 0])\n",
        "add_3d_path_to_rerun(tag_measurements, \"tag_measurements\", color = [0, 0, 255])\n",
        "time = 0.0\n",
        "for i in range(len(tag_measurements)):\n",
        "    time += dt\n",
        "    log_robot_pose_rerun(robot.true_pos_history[i], \"truth\", time, colors = [0, 255, 0])\n",
        "    log_robot_pose_rerun(robot.estimated_pos_history[i], \"tag_estimate\", time, colors = [255, 0, 0])\n",
        "    log_robot_pose_rerun(tag_measurements[i], \"tag_measurements\", time, colors = [0, 0, 255])\n",
        "    add_3d_path_to_rerun(robot.estimated_pos_history, \"tag_estimate\", color = [255, 0, 0])\n",
        "    add_3d_path_to_rerun(robot.true_pos_history, \"truth\", color = [0, 255, 0])\n",
        "    add_3d_path_to_rerun(tag_measurements, \"tag_measurements\", color = [0, 0, 255])\n",
        "\n",
        "rr.notebook_show()"
      ]
    },
    {
      "cell_type": "markdown",
      "id": "d829307f",
      "metadata": {
        "id": "d829307f"
      },
      "source": [
        "## Robot sensor fusion with Static Kalman Filter (Luengberger Observer).\n",
        "\n",
        "For a robot moving in a 2D plane, we can represent its pose using the Special Euclidean group SE(2), which accurately captures the structure of 2D rigid body motions.\n",
        "\n",
        "While the exponential map is more accurate than euler integration there is still process noise which accumulates and leads to drift.  We also have external references such as april tags which are absolute to our global reference frame but also have noise which prevents us from using them directly, additionally there may be situations where the tags are not available for measurements such as if they are occluded by a game element.  Our goal is to create an algorithm that estimates the true robot pose using the external reference (long term accuracy) and also corrects for the drift from the odometry (high frequency update rate, always available).\n",
        "\n",
        "## Kalman Filter State Extrapolation\n",
        "\n",
        "The first step of the kalman filter is to use the motion model to predict the robots pose at the next timestep.  This is equivalent to multiplying the previous pose by the exponential map of the twist. This is exactly what we did before in the SimRobot class:\n",
        "\n",
        "$\\mathbf{X}_n = \\mathbf{X}_{n-1} \\cdot \\exp(\\hat{\\xi})$\n",
        "\n",
        "where:\n",
        "- $\\mathbf{X}_n$ is the new state\n",
        "- $\\mathbf{X}_{n-1}$ is the previous state\n",
        "- $\\exp(\\cdot)$ is the exponential map\n",
        "- $\\hat{\\xi} \\in se(2)$ is the estimated twist from odometry\n",
        "\n",
        "\n",
        "## Kalman Filter State Correction\n",
        "\n",
        "Next we want to obtain a new external reference measurement (z) from april tags and use that to correct our state estimate.  \n",
        "This is done with the following equation:\n",
        "$\\mathbf{X}_{\\text{updated}} = \\mathbf{X}_{\\text{n}} + K \\times (\\mathbf{Z} -  \\mathbf{X}_{\\text{n}})$\n",
        "\n",
        "where:\n",
        "- $\\mathbf{X}_{\\text{updated}}$ is the corrected state estimate\n",
        "- $\\mathbf{X}_{\\text{predicted}}$ is the predicted state\n",
        "- $\\mathbf{K}$ is the kalman gain vector (each element is on the domain 0 < x < 1)\n",
        "- $\\mathbf{Z}$ is the measured pose from an april tag or other external reference without drift.\n",
        "\n",
        "A good intuition for what is happening here is at each time stamp we are projecting our state (just like traditional odometry) but we are \"pulling\" the estimated pose towards the true pose.  Since we assume the tag measurements follow a gaussian distribution around the robots state this repeated sampling theoretically will converge to the true robot pose with time and the state projection ensures minimum phase lag compared to simpler recursive filters like low pass and moving average filters."
      ]
    },
    {
      "cell_type": "code",
      "execution_count": 38,
      "id": "35020797",
      "metadata": {
        "id": "35020797"
      },
      "outputs": [],
      "source": [
        "gain_x = 0.08\n",
        "gain_y = 0.08\n",
        "gain_theta = 0.1\n",
        "\n",
        "def correct_state(estimate_prior: Transform2d, tag_measurement: Transform2d) -> Transform2d:\n",
        "    correction = Transform2d(tag_measurement.x - estimate_prior.x, tag_measurement.y - estimate_prior.y, wrap_angle(tag_measurement.theta - estimate_prior.theta))\n",
        "    # element wise product by our gain vector.\n",
        "    correction = Transform2d(gain_x * correction.x, gain_y * correction.y, wrap_angle(gain_theta * correction.theta))\n",
        "    return Transform2d(estimate_prior.x + correction.x, estimate_prior.y + correction.y, wrap_angle(estimate_prior.theta + correction.theta))"
      ]
    },
    {
      "cell_type": "markdown",
      "id": "7da257ac",
      "metadata": {
        "id": "7da257ac"
      },
      "source": [
        "## Key update\n",
        "\n",
        "Yellow represents the kalman filter estimate."
      ]
    },
    {
      "cell_type": "code",
      "execution_count": 39,
      "id": "9498d1f5",
      "metadata": {
        "colab": {
          "base_uri": "https://localhost:8080/",
          "height": 501,
          "referenced_widgets": [
            "044efaf8e8834527a4f56b6cc25bc367",
            "d6d9da688107462eaf4bb192c961a23c"
          ]
        },
        "id": "9498d1f5",
        "outputId": "6b52a420-9ff8-4ddc-9b1f-11a70b76d489"
      },
      "outputs": [
        {
          "output_type": "display_data",
          "data": {
            "text/plain": [
              "Viewer()"
            ],
            "application/vnd.jupyter.widget-view+json": {
              "version_major": 2,
              "version_minor": 0,
              "model_id": "044efaf8e8834527a4f56b6cc25bc367"
            }
          },
          "metadata": {
            "application/vnd.jupyter.widget-view+json": {
              "colab": {
                "custom_widget_manager": {
                  "url": "https://ssl.gstatic.com/colaboratory-static/widgets/colab-cdn-widget-manager/2b70e893a8ba7c0f/manager.min.js"
                }
              }
            }
          }
        }
      ],
      "source": [
        "# simulate tag estimate vs odom vs ground truth\n",
        "def get_twist(t: float, dt: float)-> Twist2d:\n",
        "    x = 0.5 * dt\n",
        "    y = 0.0 * dt\n",
        "    theta = np.cos(t) * dt\n",
        "    return Twist2d(x, y, theta)\n",
        "\n",
        "\n",
        "duration = 25.0 # s\n",
        "dt = 0.05 # s\n",
        "\n",
        "# create a robot at the origin\n",
        "robot = SimRobot(Transform2d(0, 0, 0), Transform2d(0, 0, 0), [], [])\n",
        "tag_measurements = []\n",
        "kalman_estimated = []\n",
        "# ideal situation where we know the initial pose, this is true enough for FTC. a \"true\" kalman filter can account better for less well defined initial poses.\n",
        "kalman_estimate = Transform2d(0,0,0)\n",
        "for t in np.arange(0, duration, dt):\n",
        "    twist = get_twist(t, dt)\n",
        "    observed_twist = robot.step(twist, process_noise=True)\n",
        "    tag_measurement = get_tag_measurement(robot.true_pose)\n",
        "    tag_measurements.append(tag_measurement)\n",
        "\n",
        "    # kalman filter\n",
        "\n",
        "    # project state forward\n",
        "    kalman_estimate = kalman_estimate * observed_twist.exp()\n",
        "    # correct with tag\n",
        "    kalman_estimate = correct_state(kalman_estimate, tag_measurement)\n",
        "    kalman_estimated.append(kalman_estimate)\n",
        "\n",
        "rr.init(\"tag estimate vs odom vs ground truth\")\n",
        "\n",
        "# put these here so the paths draw first.\n",
        "add_3d_path_to_rerun(robot.estimated_pos_history, \"tag_estimate\", color = [255, 0, 0])\n",
        "add_3d_path_to_rerun(robot.true_pos_history, \"truth\", color = [0, 255, 0])\n",
        "add_3d_path_to_rerun(tag_measurements, \"tag_measurements\", color = [0, 0, 255])\n",
        "add_3d_path_to_rerun(kalman_estimated, \"kalman_estimate\", color = [255, 255, 0])\n",
        "time = 0.0\n",
        "for i in range(len(tag_measurements)):\n",
        "    time += dt\n",
        "    log_robot_pose_rerun(robot.true_pos_history[i], \"truth\", time, colors = [0, 255, 0])\n",
        "    log_robot_pose_rerun(robot.estimated_pos_history[i], \"tag_estimate\", time, colors = [255, 0, 0])\n",
        "    log_robot_pose_rerun(tag_measurements[i], \"tag_measurements\", time, colors = [0, 0, 255])\n",
        "    add_3d_path_to_rerun(robot.estimated_pos_history, \"tag_estimate\", color = [255, 0, 0])\n",
        "    add_3d_path_to_rerun(robot.true_pos_history, \"truth\", color = [0, 255, 0])\n",
        "    add_3d_path_to_rerun(tag_measurements, \"tag_measurements\", color = [0, 0, 255])\n",
        "    add_3d_path_to_rerun(kalman_estimated, \"kalman_estimate\", color = [255, 255, 0])\n",
        "    log_robot_pose_rerun(kalman_estimated[i], \"kalman_estimate\", time, colors = [255, 255, 0])\n",
        "\n",
        "\n",
        "\n",
        "rr.notebook_show()\n",
        "\n"
      ]
    }
  ],
  "metadata": {
    "kernelspec": {
      "display_name": "Python 3 (ipykernel)",
      "language": "python",
      "name": "python3"
    },
    "language_info": {
      "codemirror_mode": {
        "name": "ipython",
        "version": 3
      },
      "file_extension": ".py",
      "mimetype": "text/x-python",
      "name": "python",
      "nbconvert_exporter": "python",
      "pygments_lexer": "ipython3",
      "version": "3.10.14"
    },
    "colab": {
      "provenance": []
    },
    "widgets": {
      "application/vnd.jupyter.widget-state+json": {
        "9ef15cf5eb404464bafefdbb78c100b6": {
          "model_module": "anywidget",
          "model_name": "AnyModel",
          "model_module_version": "~0.9.*",
          "state": {
            "_anywidget_id": "rerun_notebook.Viewer",
            "_css": "/* src/js/widget.css */\n.rerun_notebook canvas {\n  width: 100%;\n  height: 100%;\n  min-width: 200px;\n  min-height: 400px;\n  max-width: 960px;\n  max-height: 720px;\n}\n.rerun_notebook {\n  margin: 0;\n  padding: 0;\n  width: 100%;\n  height: 100%;\n  background: transparent !important;\n}\ndiv.cell-output-ipywidget-background {\n  margin: 0;\n  padding: 0;\n  background: transparent !important;\n}\n",
            "_dom_classes": [],
            "_esm": "https://app.rerun.io/version/0.18.2/widget.js",
            "_height": 480,
            "_model_module": "anywidget",
            "_model_module_version": "~0.9.*",
            "_model_name": "AnyModel",
            "_panel_states": null,
            "_url": null,
            "_view_count": null,
            "_view_module": "anywidget",
            "_view_module_version": "~0.9.*",
            "_view_name": "AnyView",
            "_width": 640,
            "layout": "IPY_MODEL_3ed0df376e6045a78cc7c46c5f19b339"
          }
        },
        "3ed0df376e6045a78cc7c46c5f19b339": {
          "model_module": "@jupyter-widgets/base",
          "model_name": "LayoutModel",
          "model_module_version": "1.2.0",
          "state": {
            "_model_module": "@jupyter-widgets/base",
            "_model_module_version": "1.2.0",
            "_model_name": "LayoutModel",
            "_view_count": null,
            "_view_module": "@jupyter-widgets/base",
            "_view_module_version": "1.2.0",
            "_view_name": "LayoutView",
            "align_content": null,
            "align_items": null,
            "align_self": null,
            "border": null,
            "bottom": null,
            "display": null,
            "flex": null,
            "flex_flow": null,
            "grid_area": null,
            "grid_auto_columns": null,
            "grid_auto_flow": null,
            "grid_auto_rows": null,
            "grid_column": null,
            "grid_gap": null,
            "grid_row": null,
            "grid_template_areas": null,
            "grid_template_columns": null,
            "grid_template_rows": null,
            "height": null,
            "justify_content": null,
            "justify_items": null,
            "left": null,
            "margin": null,
            "max_height": null,
            "max_width": null,
            "min_height": null,
            "min_width": null,
            "object_fit": null,
            "object_position": null,
            "order": null,
            "overflow": null,
            "overflow_x": null,
            "overflow_y": null,
            "padding": null,
            "right": null,
            "top": null,
            "visibility": null,
            "width": null
          }
        },
        "044efaf8e8834527a4f56b6cc25bc367": {
          "model_module": "anywidget",
          "model_name": "AnyModel",
          "model_module_version": "~0.9.*",
          "state": {
            "_anywidget_id": "rerun_notebook.Viewer",
            "_css": "/* src/js/widget.css */\n.rerun_notebook canvas {\n  width: 100%;\n  height: 100%;\n  min-width: 200px;\n  min-height: 400px;\n  max-width: 960px;\n  max-height: 720px;\n}\n.rerun_notebook {\n  margin: 0;\n  padding: 0;\n  width: 100%;\n  height: 100%;\n  background: transparent !important;\n}\ndiv.cell-output-ipywidget-background {\n  margin: 0;\n  padding: 0;\n  background: transparent !important;\n}\n",
            "_dom_classes": [],
            "_esm": "https://app.rerun.io/version/0.18.2/widget.js",
            "_height": 480,
            "_model_module": "anywidget",
            "_model_module_version": "~0.9.*",
            "_model_name": "AnyModel",
            "_panel_states": null,
            "_url": null,
            "_view_count": null,
            "_view_module": "anywidget",
            "_view_module_version": "~0.9.*",
            "_view_name": "AnyView",
            "_width": 640,
            "layout": "IPY_MODEL_d6d9da688107462eaf4bb192c961a23c"
          }
        },
        "d6d9da688107462eaf4bb192c961a23c": {
          "model_module": "@jupyter-widgets/base",
          "model_name": "LayoutModel",
          "model_module_version": "1.2.0",
          "state": {
            "_model_module": "@jupyter-widgets/base",
            "_model_module_version": "1.2.0",
            "_model_name": "LayoutModel",
            "_view_count": null,
            "_view_module": "@jupyter-widgets/base",
            "_view_module_version": "1.2.0",
            "_view_name": "LayoutView",
            "align_content": null,
            "align_items": null,
            "align_self": null,
            "border": null,
            "bottom": null,
            "display": null,
            "flex": null,
            "flex_flow": null,
            "grid_area": null,
            "grid_auto_columns": null,
            "grid_auto_flow": null,
            "grid_auto_rows": null,
            "grid_column": null,
            "grid_gap": null,
            "grid_row": null,
            "grid_template_areas": null,
            "grid_template_columns": null,
            "grid_template_rows": null,
            "height": null,
            "justify_content": null,
            "justify_items": null,
            "left": null,
            "margin": null,
            "max_height": null,
            "max_width": null,
            "min_height": null,
            "min_width": null,
            "object_fit": null,
            "object_position": null,
            "order": null,
            "overflow": null,
            "overflow_x": null,
            "overflow_y": null,
            "padding": null,
            "right": null,
            "top": null,
            "visibility": null,
            "width": null
          }
        }
      }
    }
  },
  "nbformat": 4,
  "nbformat_minor": 5
}